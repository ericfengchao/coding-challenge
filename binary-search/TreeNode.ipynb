{
 "cells": [
  {
   "cell_type": "code",
   "execution_count": 44,
   "metadata": {},
   "outputs": [],
   "source": [
    "# Definition for a binary tree node.\n",
    "class TreeNode(object):\n",
    "    def __init__(self, val=0, left=None, right=None):\n",
    "        self.val = val\n",
    "        self.left = left\n",
    "        self.right = right\n",
    "\n",
    "class Solution(object):\n",
    "    def preorder(self, root):\n",
    "        if root == None:\n",
    "            return []\n",
    "        \n",
    "        stack = [root]\n",
    "        res = []\n",
    "        while len(stack) > 0:\n",
    "            node = stack.pop()\n",
    "            res.append(node.val)\n",
    "            if node.right != None:\n",
    "                stack.append(node.right)\n",
    "            if node.left != None:\n",
    "                stack.append(node.left)\n",
    "            \n",
    "        return res\n",
    "                \n",
    "    def postorder(root):\n",
    "        if not root:\n",
    "            return []\n",
    "\n",
    "        result = []\n",
    "        stack = [root]\n",
    "\n",
    "        while stack:\n",
    "            node = stack.pop()\n",
    "            if node:\n",
    "                result.append(node.val)\n",
    "                stack.append(node.left)\n",
    "                stack.append(node.right)\n",
    "\n",
    "        return result[::-1]\n",
    "        \n",
    "    def bfs(self, root):\n",
    "        if root == None:\n",
    "            return []\n",
    "        \n",
    "        stack = [root]\n",
    "        res = []\n",
    "        while len(stack) > 0:\n",
    "            node = stack.pop()\n",
    "            res.append(node.val)\n",
    "            if node.left != None:\n",
    "                stack.insert(0, node.left)\n",
    "            if node.right != None:\n",
    "                stack.insert(0, node.right)\n",
    "        return res\n",
    "    \n",
    "    def inorder(self, root):\n",
    "        res = []\n",
    "        stack = []\n",
    "        node = root\n",
    "        while node != None:\n",
    "            stack.append(node)\n",
    "            node = node.left\n",
    "            \n",
    "        while len(stack) > 0:\n",
    "            node = stack.pop()\n",
    "            res.append(node.val)\n",
    "            node = node.right\n",
    "            while node != None:\n",
    "                stack.append(node)\n",
    "                node = node.left\n",
    "                    \n",
    "        return res\n",
    "        \n",
    "\n",
    "    def isValidBST(self, root):\n",
    "        \"\"\"\n",
    "        :type root: TreeNode\n",
    "        :rtype: bool\n",
    "        \"\"\"\n",
    "        if root == None:\n",
    "            return True\n",
    "        \n",
    "        prev = None\n",
    "        \n",
    "        res = []\n",
    "        stack = []\n",
    "        node = root\n",
    "        while node != None:\n",
    "            stack.append(node)\n",
    "            node = node.left\n",
    "            \n",
    "        while len(stack) > 0:\n",
    "            node = stack.pop()\n",
    "            if prev != None and node.val < prev:\n",
    "                return False\n",
    "            prev = node.val\n",
    "            node = node.right\n",
    "            while node != None:\n",
    "                stack.append(node)\n",
    "                node = node.left\n",
    "                    \n",
    "        return True"
   ]
  },
  {
   "cell_type": "code",
   "execution_count": 45,
   "metadata": {},
   "outputs": [],
   "source": [
    "s = Solution()"
   ]
  },
  {
   "cell_type": "code",
   "execution_count": 46,
   "metadata": {},
   "outputs": [],
   "source": [
    "root = TreeNode(\n",
    "    val = 5,\n",
    "    left = TreeNode(\n",
    "        val = 3,\n",
    "        left = TreeNode(\n",
    "            val = 2,\n",
    "            left = TreeNode(val = 1),\n",
    "        ),\n",
    "        right = TreeNode(\n",
    "            val = 4,\n",
    "        ),\n",
    "    ),\n",
    "    right = TreeNode(val=6),\n",
    ")"
   ]
  },
  {
   "cell_type": "code",
   "execution_count": 47,
   "metadata": {},
   "outputs": [
    {
     "data": {
      "text/plain": [
       "[5, 3, 6, 2, 4, 1]"
      ]
     },
     "execution_count": 47,
     "metadata": {},
     "output_type": "execute_result"
    }
   ],
   "source": [
    "s.bfs(root)"
   ]
  },
  {
   "cell_type": "code",
   "execution_count": 49,
   "metadata": {},
   "outputs": [
    {
     "data": {
      "text/plain": [
       "[5, 3, 2, 1, 4, 6]"
      ]
     },
     "execution_count": 49,
     "metadata": {},
     "output_type": "execute_result"
    }
   ],
   "source": [
    "s.preorder(root)"
   ]
  },
  {
   "cell_type": "code",
   "execution_count": 50,
   "metadata": {},
   "outputs": [
    {
     "name": "stdout",
     "output_type": "stream",
     "text": [
      "True\n"
     ]
    }
   ],
   "source": [
    "print(s.isValidBST(root))"
   ]
  },
  {
   "cell_type": "code",
   "execution_count": null,
   "metadata": {},
   "outputs": [],
   "source": []
  }
 ],
 "metadata": {
  "kernelspec": {
   "display_name": "Python 3",
   "language": "python",
   "name": "python3"
  },
  "language_info": {
   "codemirror_mode": {
    "name": "ipython",
    "version": 3
   },
   "file_extension": ".py",
   "mimetype": "text/x-python",
   "name": "python",
   "nbconvert_exporter": "python",
   "pygments_lexer": "ipython3",
   "version": "3.8.12"
  }
 },
 "nbformat": 4,
 "nbformat_minor": 4
}
