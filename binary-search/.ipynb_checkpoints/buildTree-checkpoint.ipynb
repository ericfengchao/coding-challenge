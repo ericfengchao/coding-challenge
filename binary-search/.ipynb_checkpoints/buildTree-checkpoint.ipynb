{
 "cells": [
  {
   "cell_type": "code",
   "execution_count": 7,
   "metadata": {},
   "outputs": [],
   "source": [
    "# https://leetcode.com/problems/construct-binary-tree-from-preorder-and-inorder-traversal/\n",
    "# Definition for a binary tree node.\n",
    "class TreeNode(object):\n",
    "    def __init__(self, val=0, left=None, right=None):\n",
    "        self.val = val\n",
    "        self.left = left\n",
    "        self.right = right\n",
    "        \n",
    "    def inorder(self):\n",
    "        r = []\n",
    "        if self == None:\n",
    "            return r\n",
    "        \n",
    "        if self.left != None:\n",
    "            r += self.left.inorder()\n",
    "        \n",
    "        r.append(self.val)\n",
    "        \n",
    "        if self.right != None:\n",
    "            r += self.right.inorder()\n",
    "            \n",
    "        return r\n",
    "    \n",
    "    def preorder(self):\n",
    "        r = []\n",
    "        if self == None:\n",
    "            return r\n",
    "        \n",
    "        r.append(self.val)\n",
    "        \n",
    "        if self.left != None:\n",
    "            r += self.left.inorder()\n",
    "        \n",
    "        if self.right != None:\n",
    "            r += self.right.inorder()\n",
    "            \n",
    "        return r    \n",
    "\n",
    "class Solution(object):\n",
    "    def buildTree(self, preorder, inorder):\n",
    "        \"\"\"\n",
    "        :type preorder: List[int]\n",
    "        :type inorder: List[int]\n",
    "        :rtype: TreeNode\n",
    "        \"\"\"\n",
    "        if len(preorder) == 0:\n",
    "            return None\n",
    "        \n",
    "        node_val = preorder[0]\n",
    "        node_idx = inorder.index(node_val)\n",
    "        left_len = node_idx\n",
    "        right_len = len(inorder) - 1 - node_idx\n",
    "        return TreeNode(\n",
    "            val = node_val,\n",
    "            left = self.buildTreeRecursive(preorder[1:1+left_len], inorder[:node_idx]),\n",
    "            right = self.buildTreeRecursive(preorder[1+left_len:], inorder[node_idx+1:]),\n",
    "        )"
   ]
  },
  {
   "cell_type": "code",
   "execution_count": 8,
   "metadata": {},
   "outputs": [],
   "source": [
    "s = Solution()"
   ]
  },
  {
   "cell_type": "code",
   "execution_count": 9,
   "metadata": {},
   "outputs": [],
   "source": [
    "node = s.buildTree(preorder = [3,9,20,15,7], inorder = [9,3,15,20,7])"
   ]
  },
  {
   "cell_type": "code",
   "execution_count": 10,
   "metadata": {},
   "outputs": [
    {
     "data": {
      "text/plain": [
       "[9, 3, 15, 20, 7]"
      ]
     },
     "execution_count": 10,
     "metadata": {},
     "output_type": "execute_result"
    }
   ],
   "source": [
    "node.inorder()"
   ]
  },
  {
   "cell_type": "code",
   "execution_count": 11,
   "metadata": {},
   "outputs": [
    {
     "data": {
      "text/plain": [
       "[3, 9, 15, 20, 7]"
      ]
     },
     "execution_count": 11,
     "metadata": {},
     "output_type": "execute_result"
    }
   ],
   "source": [
    "node.preorder()"
   ]
  },
  {
   "cell_type": "code",
   "execution_count": 12,
   "metadata": {},
   "outputs": [
    {
     "data": {
      "text/plain": [
       "3"
      ]
     },
     "execution_count": 12,
     "metadata": {},
     "output_type": "execute_result"
    }
   ],
   "source": [
    "[1,2,3].pop()"
   ]
  },
  {
   "cell_type": "code",
   "execution_count": null,
   "metadata": {},
   "outputs": [],
   "source": []
  }
 ],
 "metadata": {
  "kernelspec": {
   "display_name": "Python 3",
   "language": "python",
   "name": "python3"
  },
  "language_info": {
   "codemirror_mode": {
    "name": "ipython",
    "version": 3
   },
   "file_extension": ".py",
   "mimetype": "text/x-python",
   "name": "python",
   "nbconvert_exporter": "python",
   "pygments_lexer": "ipython3",
   "version": "3.8.12"
  }
 },
 "nbformat": 4,
 "nbformat_minor": 4
}
