{
 "cells": [
  {
   "cell_type": "code",
   "execution_count": 10,
   "metadata": {},
   "outputs": [],
   "source": [
    "# https://leetcode.com/problems/kth-smallest-element-in-a-bst/\n",
    "# Definition for a binary tree node.\n",
    "class TreeNode(object):\n",
    "    def __init__(self, val=0, left=None, right=None):\n",
    "        self.val = val\n",
    "        self.left = left\n",
    "        self.right = right\n",
    "\n",
    "class Solution(object):\n",
    "    def kthSmallest2(self, root, k):\n",
    "        \"\"\"\n",
    "        :type root: TreeNode\n",
    "        :type k: int\n",
    "        :rtype: int\n",
    "        \"\"\"\n",
    "        stack = [root]\n",
    "        visited = set([])\n",
    "        last_visited = None\n",
    "        while len(visited) < k:\n",
    "            # pop if top is visited\n",
    "            top = stack[-1]\n",
    "            if top.val in visited:\n",
    "                stack.pop()\n",
    "                continue\n",
    "            \n",
    "            # else if left is visited, add top to visited, add right\n",
    "            if top.left == None or top.left.val in visited:\n",
    "                visited.add(top.val)\n",
    "                last_visited = top.val\n",
    "                if top.right != None:\n",
    "                    stack.append(top.right)\n",
    "                continue\n",
    "            \n",
    "            # else if left is not visited, add left\n",
    "            stack.append(top.left)\n",
    "            \n",
    "        \n",
    "        return last_visited\n",
    "    \n",
    "    def kthSmallest(self, root, k):\n",
    "        \"\"\"\n",
    "        :type root: TreeNode\n",
    "        :type k: int\n",
    "        :rtype: int\n",
    "        \"\"\"\n",
    "        stack = [root]\n",
    "        visited = 0\n",
    "        last_visited = None\n",
    "        \n",
    "        while visited < k:\n",
    "            # pop if null, add next to visited\n",
    "            top = stack[-1]\n",
    "            if top == None:\n",
    "                stack.pop()\n",
    "                if len(stack) > 0:\n",
    "                    new_top = stack.pop()\n",
    "                    visited += 1\n",
    "                    last_visited = new_top.val\n",
    "                    stack.append(new_top.right)\n",
    "                continue\n",
    "            else:\n",
    "                stack.append(top.left)            \n",
    "        \n",
    "        return last_visited"
   ]
  },
  {
   "cell_type": "code",
   "execution_count": 11,
   "metadata": {},
   "outputs": [],
   "source": [
    "s = Solution()"
   ]
  },
  {
   "cell_type": "code",
   "execution_count": 12,
   "metadata": {},
   "outputs": [],
   "source": [
    "root = TreeNode(\n",
    "    val = 5,\n",
    "    left = TreeNode(\n",
    "        val = 3,\n",
    "        left = TreeNode(\n",
    "            val = 2,\n",
    "            left = TreeNode(val = 1),\n",
    "        ),\n",
    "        right = TreeNode(\n",
    "            val = 4,\n",
    "        ),\n",
    "    ),\n",
    "    right = TreeNode(val=6),\n",
    ")"
   ]
  },
  {
   "cell_type": "code",
   "execution_count": 15,
   "metadata": {},
   "outputs": [
    {
     "name": "stdout",
     "output_type": "stream",
     "text": [
      "2\n"
     ]
    }
   ],
   "source": [
    "print(s.kthSmallest(root, 2))"
   ]
  },
  {
   "cell_type": "code",
   "execution_count": null,
   "metadata": {},
   "outputs": [],
   "source": []
  }
 ],
 "metadata": {
  "kernelspec": {
   "display_name": "Python 3",
   "language": "python",
   "name": "python3"
  },
  "language_info": {
   "codemirror_mode": {
    "name": "ipython",
    "version": 3
   },
   "file_extension": ".py",
   "mimetype": "text/x-python",
   "name": "python",
   "nbconvert_exporter": "python",
   "pygments_lexer": "ipython3",
   "version": "3.8.12"
  }
 },
 "nbformat": 4,
 "nbformat_minor": 4
}
