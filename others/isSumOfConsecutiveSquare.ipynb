{
 "cells": [
  {
   "cell_type": "code",
   "execution_count": 9,
   "metadata": {},
   "outputs": [],
   "source": [
    "import math\n",
    "class Solution(object):\n",
    "    def isSumOfConsecutiveSquare(self, n):\n",
    "        \"\"\"\n",
    "        \"\"\"\n",
    "        max_root = int(math.ceil(math.sqrt(n)))\n",
    "        for i in range(max_root, -1, -1):\n",
    "            remain = n\n",
    "            # print(i)\n",
    "            for j in range(i, -1, -1):\n",
    "                # print('\\t', j)\n",
    "                remain -= j*j\n",
    "                if remain == 0:\n",
    "                    return True\n",
    "                elif remain < 0:\n",
    "                    break\n",
    "                    \n",
    "            if remain > 0:\n",
    "                break\n",
    "                    \n",
    "        return False"
   ]
  },
  {
   "cell_type": "code",
   "execution_count": 11,
   "metadata": {},
   "outputs": [
    {
     "name": "stdout",
     "output_type": "stream",
     "text": [
      "True\n",
      "True\n",
      "True\n",
      "True\n"
     ]
    }
   ],
   "source": [
    "s = Solution()\n",
    "# test cases\n",
    "print(s.isSumOfConsecutiveSquare(0) == True)\n",
    "print(s.isSumOfConsecutiveSquare(1) == True)\n",
    "print(s.isSumOfConsecutiveSquare(sum([i*i for i in range(2,5)])) == True)\n",
    "print(s.isSumOfConsecutiveSquare(5+sum([i*i for i in range(12,15)])) == False)"
   ]
  }
 ],
 "metadata": {
  "kernelspec": {
   "display_name": "Python 3",
   "language": "python",
   "name": "python3"
  },
  "language_info": {
   "codemirror_mode": {
    "name": "ipython",
    "version": 3
   },
   "file_extension": ".py",
   "mimetype": "text/x-python",
   "name": "python",
   "nbconvert_exporter": "python",
   "pygments_lexer": "ipython3",
   "version": "3.8.12"
  }
 },
 "nbformat": 4,
 "nbformat_minor": 4
}
