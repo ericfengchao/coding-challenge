{
 "cells": [
  {
   "cell_type": "code",
   "execution_count": 9,
   "metadata": {},
   "outputs": [],
   "source": [
    "class Solution:\n",
    "    def combinationSum(self, candidates, target):\n",
    "        candidates.sort()\n",
    "        return self.combinationSortedListSum(candidates, target)\n",
    "    \n",
    "    def combinationSortedListSum(self, candidates, target):\n",
    "        res = []\n",
    "        for i in range(len(candidates)):\n",
    "            candidate = candidates[i]\n",
    "            \n",
    "            if candidate == target:\n",
    "                res.append([target])\n",
    "            elif candidate < target:\n",
    "                combos = self.combinationSortedListSum(candidates[i:], target - candidate)\n",
    "                for combo in combos:\n",
    "                    res.append([candidate] + combo)\n",
    "            else:\n",
    "                break\n",
    "        return res"
   ]
  },
  {
   "cell_type": "code",
   "execution_count": 10,
   "metadata": {},
   "outputs": [],
   "source": [
    "s = Solution()"
   ]
  },
  {
   "cell_type": "code",
   "execution_count": 11,
   "metadata": {},
   "outputs": [
    {
     "data": {
      "text/plain": [
       "[[1, 1, 1, 1, 1, 1],\n",
       " [1, 1, 1, 1, 2],\n",
       " [1, 1, 1, 3],\n",
       " [1, 1, 2, 2],\n",
       " [1, 2, 3],\n",
       " [2, 2, 2],\n",
       " [3, 3]]"
      ]
     },
     "execution_count": 11,
     "metadata": {},
     "output_type": "execute_result"
    }
   ],
   "source": [
    "s.combinationSum([1,2,3], 6)"
   ]
  },
  {
   "cell_type": "code",
   "execution_count": null,
   "metadata": {},
   "outputs": [],
   "source": []
  }
 ],
 "metadata": {
  "kernelspec": {
   "display_name": "Python 3",
   "language": "python",
   "name": "python3"
  },
  "language_info": {
   "codemirror_mode": {
    "name": "ipython",
    "version": 3
   },
   "file_extension": ".py",
   "mimetype": "text/x-python",
   "name": "python",
   "nbconvert_exporter": "python",
   "pygments_lexer": "ipython3",
   "version": "3.8.12"
  }
 },
 "nbformat": 4,
 "nbformat_minor": 4
}
