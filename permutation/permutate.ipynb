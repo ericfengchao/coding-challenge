{
 "cells": [
  {
   "cell_type": "code",
   "execution_count": 7,
   "metadata": {},
   "outputs": [],
   "source": [
    "def permutate_unique_s(s):\n",
    "    \"\"\"\n",
    "    print out all permutations of s\n",
    "    where s contains no duplicate character\n",
    "    \"\"\"\n",
    "    \n",
    "    tasks = [(s, '')]\n",
    "    result = []\n",
    "    \n",
    "    while len(tasks) > 0:\n",
    "        (l, r) = tasks.pop()\n",
    "        if l == '':\n",
    "            result.append(r)\n",
    "            continue\n",
    "            \n",
    "        for i in range(len(l)):\n",
    "            new_l = l[:i] + l[i+1:]\n",
    "            new_r = r+l[i]\n",
    "            tasks.append((new_l, new_r))\n",
    "    \n",
    "            \n",
    "    \n",
    "        "
   ]
  },
  {
   "cell_type": "code",
   "execution_count": null,
   "metadata": {},
   "outputs": [],
   "source": [
    "def permutate_general(s):\n",
    "    c_count = {}\n",
    "    for c in s:\n",
    "        c_count[c] = c_count.get(c, 0) + 1\n",
    "    \n",
    "    candidates = []\n",
    "    for k, v in c_count:\n",
    "        new_candidate = []\n",
    "        if v == 1:\n",
    "             new_candidate = [k]\n",
    "        else:\n",
    "            candidates = [c.append(k) for c in candidates]\n",
    "                          \n",
    "                          \n",
    "def split_v_into_n(v, n):\n",
    "    if n == 1:\n",
    "        return [v]\n",
    "    \n",
    "    # continue from here"
   ]
  }
 ],
 "metadata": {
  "kernelspec": {
   "display_name": "Python 3",
   "language": "python",
   "name": "python3"
  },
  "language_info": {
   "codemirror_mode": {
    "name": "ipython",
    "version": 3
   },
   "file_extension": ".py",
   "mimetype": "text/x-python",
   "name": "python",
   "nbconvert_exporter": "python",
   "pygments_lexer": "ipython3",
   "version": "3.8.12"
  }
 },
 "nbformat": 4,
 "nbformat_minor": 4
}
