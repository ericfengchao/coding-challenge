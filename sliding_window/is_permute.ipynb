{
 "cells": [
  {
   "cell_type": "code",
   "execution_count": 5,
   "metadata": {},
   "outputs": [],
   "source": [
    "class Solution(object):\n",
    "    def is_permute(self, s1, count):\n",
    "        print(s1, count)\n",
    "        count_s1 = {}\n",
    "        for c in s1:\n",
    "            count_s1[c] = count_s1.get(c, 0) + 1\n",
    "        \n",
    "        for k,v in count_s1.items():\n",
    "            if k not in count:\n",
    "                return False\n",
    "            if v != count[k]:\n",
    "                return False\n",
    "        \n",
    "        return True\n",
    "\n",
    "    def checkInclusion(self, s1, s2):\n",
    "        \"\"\"\n",
    "        :type s1: str\n",
    "        :type s2: str\n",
    "        :rtype: bool\n",
    "        \"\"\"\n",
    "        count = {}\n",
    "        for c in s1:\n",
    "            count[c] = count.get(c, 0) + 1\n",
    "\n",
    "        for l in range(len(s2) - len(s1)+1):\n",
    "            c = s2[l]\n",
    "            if c in count:\n",
    "                if self.is_permute(s2[l:l+len(s1)], count):\n",
    "                    return True\n",
    "\n",
    "        return False"
   ]
  },
  {
   "cell_type": "code",
   "execution_count": 6,
   "metadata": {},
   "outputs": [
    {
     "name": "stdout",
     "output_type": "stream",
     "text": [
      "dcd {'a': 1, 'd': 1, 'c': 1}\n",
      "cda {'a': 1, 'd': 1, 'c': 1}\n"
     ]
    },
    {
     "data": {
      "text/plain": [
       "True"
      ]
     },
     "execution_count": 6,
     "metadata": {},
     "output_type": "execute_result"
    }
   ],
   "source": [
    "s = Solution()\n",
    "s.checkInclusion('adc', 'dcda')"
   ]
  },
  {
   "cell_type": "code",
   "execution_count": null,
   "metadata": {},
   "outputs": [],
   "source": []
  }
 ],
 "metadata": {
  "kernelspec": {
   "display_name": "Python 3",
   "language": "python",
   "name": "python3"
  },
  "language_info": {
   "codemirror_mode": {
    "name": "ipython",
    "version": 3
   },
   "file_extension": ".py",
   "mimetype": "text/x-python",
   "name": "python",
   "nbconvert_exporter": "python",
   "pygments_lexer": "ipython3",
   "version": "3.8.12"
  }
 },
 "nbformat": 4,
 "nbformat_minor": 4
}
