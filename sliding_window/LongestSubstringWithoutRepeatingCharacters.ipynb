{
 "cells": [
  {
   "cell_type": "code",
   "execution_count": 7,
   "id": "19ca8c2e",
   "metadata": {},
   "outputs": [],
   "source": [
    "class Solution(object):\n",
    "    def lengthOfLongestSubstring(self, s):\n",
    "        \"\"\"\n",
    "        :type s: str\n",
    "        :rtype: int\n",
    "        \"\"\"\n",
    "        c_last_seen = {}\n",
    "        longest_subs = 0\n",
    "        current_subs = 0\n",
    "        for i in range(len(s)):\n",
    "            c = s[i]\n",
    "            starting_point = i - current_subs\n",
    "            if c not in c_last_seen or c_last_seen[c] < starting_point:\n",
    "                current_subs += 1\n",
    "                longest_subs = max(current_subs, longest_subs)\n",
    "            else:\n",
    "                last_seen_of_c = c_last_seen[c]\n",
    "                current_subs = i - last_seen_of_c\n",
    "            \n",
    "            c_last_seen[c] = i\n",
    "                \n",
    "        return longest_subs\n",
    "        "
   ]
  },
  {
   "cell_type": "code",
   "execution_count": 8,
   "id": "c616eef6",
   "metadata": {},
   "outputs": [
    {
     "name": "stdout",
     "output_type": "stream",
     "text": [
      "True\n"
     ]
    }
   ],
   "source": [
    "s = Solution()\n",
    "print(s.lengthOfLongestSubstring(\"abcabcbb\")==3)"
   ]
  },
  {
   "cell_type": "code",
   "execution_count": 9,
   "id": "05a298a2",
   "metadata": {},
   "outputs": [
    {
     "name": "stdout",
     "output_type": "stream",
     "text": [
      "True\n"
     ]
    }
   ],
   "source": [
    "print(s.lengthOfLongestSubstring(\"bbbbb\")==1)"
   ]
  },
  {
   "cell_type": "code",
   "execution_count": 10,
   "id": "6b2706df",
   "metadata": {},
   "outputs": [
    {
     "name": "stdout",
     "output_type": "stream",
     "text": [
      "True\n"
     ]
    }
   ],
   "source": [
    "print(s.lengthOfLongestSubstring(\"pwwkew\")==3)"
   ]
  },
  {
   "cell_type": "code",
   "execution_count": 11,
   "id": "0885f8b2",
   "metadata": {},
   "outputs": [
    {
     "name": "stdout",
     "output_type": "stream",
     "text": [
      "True\n"
     ]
    }
   ],
   "source": [
    "print(s.lengthOfLongestSubstring(\"\")==0)"
   ]
  },
  {
   "cell_type": "code",
   "execution_count": 13,
   "id": "c786e9d0",
   "metadata": {},
   "outputs": [
    {
     "name": "stdout",
     "output_type": "stream",
     "text": [
      "True\n"
     ]
    }
   ],
   "source": [
    "print(s.lengthOfLongestSubstring(\"abcdacgfkb\")==7)"
   ]
  },
  {
   "cell_type": "code",
   "execution_count": null,
   "id": "e6d569b3",
   "metadata": {},
   "outputs": [],
   "source": []
  }
 ],
 "metadata": {
  "kernelspec": {
   "display_name": "Python 3 (ipykernel)",
   "language": "python",
   "name": "python3"
  },
  "language_info": {
   "codemirror_mode": {
    "name": "ipython",
    "version": 3
   },
   "file_extension": ".py",
   "mimetype": "text/x-python",
   "name": "python",
   "nbconvert_exporter": "python",
   "pygments_lexer": "ipython3",
   "version": "3.9.12"
  }
 },
 "nbformat": 4,
 "nbformat_minor": 5
}
