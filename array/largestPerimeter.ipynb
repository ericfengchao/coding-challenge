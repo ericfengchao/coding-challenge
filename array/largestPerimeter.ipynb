{
 "cells": [
  {
   "cell_type": "code",
   "execution_count": 7,
   "metadata": {},
   "outputs": [],
   "source": [
    "# 2971. Find Polygon With the Largest Perimeter\n",
    "class Solution:\n",
    "    def largestPerimeter(self, nums):\n",
    "        if len(nums) < 3:\n",
    "            return -1\n",
    "        \n",
    "        nums.sort()\n",
    "        nums_sum = sum(nums)\n",
    "        while len(nums) >=3:\n",
    "            ak = nums.pop()\n",
    "            if nums_sum - ak > ak:\n",
    "                return nums_sum\n",
    "            \n",
    "            nums_sum -= ak\n",
    "        \n",
    "        return -1"
   ]
  },
  {
   "cell_type": "code",
   "execution_count": 12,
   "metadata": {},
   "outputs": [],
   "source": [
    "s = Solution()\n",
    "# nums = [5,5,5]\n",
    "# nums = [1,12,1,2,5,50,3]\n",
    "nums = [5,5,50]"
   ]
  },
  {
   "cell_type": "code",
   "execution_count": 13,
   "metadata": {},
   "outputs": [
    {
     "name": "stdout",
     "output_type": "stream",
     "text": [
      "-1\n"
     ]
    }
   ],
   "source": [
    "print(s.largestPerimeter(nums))"
   ]
  },
  {
   "cell_type": "code",
   "execution_count": null,
   "metadata": {},
   "outputs": [],
   "source": []
  }
 ],
 "metadata": {
  "kernelspec": {
   "display_name": "Python 3",
   "language": "python",
   "name": "python3"
  },
  "language_info": {
   "codemirror_mode": {
    "name": "ipython",
    "version": 3
   },
   "file_extension": ".py",
   "mimetype": "text/x-python",
   "name": "python",
   "nbconvert_exporter": "python",
   "pygments_lexer": "ipython3",
   "version": "3.8.12"
  }
 },
 "nbformat": 4,
 "nbformat_minor": 4
}
