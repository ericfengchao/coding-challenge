{
 "cells": [
  {
   "cell_type": "code",
   "execution_count": 7,
   "metadata": {},
   "outputs": [],
   "source": [
    "class Solution:\n",
    "    def findLeastNumOfUniqueInts(self, arr, k):\n",
    "        num_count = {}\n",
    "        for i in arr:\n",
    "            if i in num_count:\n",
    "                num_count[i] = num_count[i] + 1\n",
    "            else:\n",
    "                num_count[i] = 1\n",
    "        values = sorted(num_count.values())\n",
    "        print(values)\n",
    "        unique_removed = 0\n",
    "        while k > 0:\n",
    "            if values[unique_removed] > k:\n",
    "                break\n",
    "            \n",
    "            k -= values[unique_removed]\n",
    "            unique_removed += 1\n",
    "                \n",
    "        return len(values) - unique_removed"
   ]
  },
  {
   "cell_type": "code",
   "execution_count": 8,
   "metadata": {},
   "outputs": [],
   "source": [
    "s = Solution()"
   ]
  },
  {
   "cell_type": "code",
   "execution_count": 9,
   "metadata": {},
   "outputs": [
    {
     "name": "stdout",
     "output_type": "stream",
     "text": [
      "[1, 2, 3]\n"
     ]
    },
    {
     "data": {
      "text/plain": [
       "1"
      ]
     },
     "execution_count": 9,
     "metadata": {},
     "output_type": "execute_result"
    }
   ],
   "source": [
    "s.findLeastNumOfUniqueInts([2,1,1,3,3,3], 3)"
   ]
  },
  {
   "cell_type": "code",
   "execution_count": null,
   "metadata": {},
   "outputs": [],
   "source": []
  },
  {
   "cell_type": "code",
   "execution_count": null,
   "metadata": {},
   "outputs": [],
   "source": []
  }
 ],
 "metadata": {
  "kernelspec": {
   "display_name": "Python 3",
   "language": "python",
   "name": "python3"
  },
  "language_info": {
   "codemirror_mode": {
    "name": "ipython",
    "version": 3
   },
   "file_extension": ".py",
   "mimetype": "text/x-python",
   "name": "python",
   "nbconvert_exporter": "python",
   "pygments_lexer": "ipython3",
   "version": "3.8.12"
  }
 },
 "nbformat": 4,
 "nbformat_minor": 4
}
