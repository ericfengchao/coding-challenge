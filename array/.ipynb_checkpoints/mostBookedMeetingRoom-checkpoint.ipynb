{
 "cells": [
  {
   "cell_type": "code",
   "execution_count": 30,
   "metadata": {},
   "outputs": [],
   "source": [
    "# 2402. Meeting Rooms III\n",
    "\n",
    "class Solution:\n",
    "    def mostBooked(self, n, meetings):\n",
    "        meetings.sort()\n",
    "        rooms = [[] for i in range(n)]\n",
    "        \n",
    "        for m in meetings:\n",
    "            room_found = False\n",
    "            earliest_room = None\n",
    "            for i in range(n):\n",
    "                room = rooms[i]\n",
    "                if len(room) == 0:\n",
    "                    room.append(m)\n",
    "                    room_found = True\n",
    "                    break\n",
    "                    \n",
    "                last_meeting = room[-1]\n",
    "                if last_meeting[1] <= m[0]:\n",
    "                    room.append(m)\n",
    "                    room_found = True\n",
    "                    break\n",
    "                else:\n",
    "                    if earliest_room is None or earliest_room[1] > last_meeting[1]:\n",
    "                        earliest_room = [i, last_meeting[1]]\n",
    "            if room_found is False:\n",
    "                print(earliest_room)\n",
    "                earliest_time = earliest_room[1]\n",
    "                rooms[earliest_room[0]].append([earliest_time, earliest_time + (m[1]- m[0])])\n",
    "        \n",
    "        for room in rooms:\n",
    "            print(room)\n",
    "        \n",
    "        max_room = None\n",
    "        for i in range(n):\n",
    "            r = rooms[i]\n",
    "            if max_room is None or len(r) > len(rooms[max_room]):\n",
    "                max_room = i\n",
    "        return max_room"
   ]
  },
  {
   "cell_type": "code",
   "execution_count": 31,
   "metadata": {},
   "outputs": [
    {
     "name": "stdout",
     "output_type": "stream",
     "text": [
      "[0, 5]\n",
      "[[1, 2], [2, 5], [5, 6]]\n",
      "[[3, 6]]\n"
     ]
    },
    {
     "data": {
      "text/plain": [
       "0"
      ]
     },
     "execution_count": 31,
     "metadata": {},
     "output_type": "execute_result"
    }
   ],
   "source": [
    "s = Solution()\n",
    "s.mostBooked(2, [[1,2],[3,6],[2,5],[4,5]])"
   ]
  },
  {
   "cell_type": "code",
   "execution_count": null,
   "metadata": {},
   "outputs": [],
   "source": []
  }
 ],
 "metadata": {
  "kernelspec": {
   "display_name": "Python 3",
   "language": "python",
   "name": "python3"
  },
  "language_info": {
   "codemirror_mode": {
    "name": "ipython",
    "version": 3
   },
   "file_extension": ".py",
   "mimetype": "text/x-python",
   "name": "python",
   "nbconvert_exporter": "python",
   "pygments_lexer": "ipython3",
   "version": "3.8.12"
  }
 },
 "nbformat": 4,
 "nbformat_minor": 4
}
