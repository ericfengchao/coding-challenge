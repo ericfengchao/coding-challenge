{
 "cells": [
  {
   "cell_type": "code",
   "execution_count": 77,
   "metadata": {},
   "outputs": [],
   "source": [
    "# 2035. Partition Array Into Two Arrays to Minimize Sum Difference\n",
    "\n",
    "class Solution:\n",
    "    def minimumDifference(self, nums):\n",
    "        l = nums[:len(nums)//2]\n",
    "        r = nums[len(nums)//2:]\n",
    "        print(l,sum(l))\n",
    "        print(r, sum(r))\n",
    "        print()\n",
    "        iteration = 0\n",
    "        while True:\n",
    "            iteration += 1\n",
    "            if iteration > 10:\n",
    "                return\n",
    "            l_sum, r_sum = sum(l), sum(r)\n",
    "            if l_sum > r_sum:\n",
    "                l_sum, r_sum = r_sum, l_sum\n",
    "                l, r = r, l\n",
    "                \n",
    "            diff_sum = r_sum - l_sum\n",
    "            if diff_sum <= 1:\n",
    "                break\n",
    "            \n",
    "            min_diff_btw_2_nums = 0\n",
    "\n",
    "            diff_dp = [[None for i in range(len(l))] for j in range(len(r))]\n",
    "            closest_diff = None\n",
    "            for i in range(len(l)):\n",
    "                for j in range(len(r)):\n",
    "                    diff = r[j] - l[i] \n",
    "                    if diff <= 0:\n",
    "                        continue\n",
    "                    \n",
    "                    diff_dp[i][j] = diff\n",
    "                    \n",
    "                    if closest_diff is None or abs(2*diff-diff_sum) < closest_diff[2]:\n",
    "                        closest_diff = (i,j,abs(2*diff-diff_sum))\n",
    "                \n",
    "                print(diff_dp[i])\n",
    "            if closest_diff is None or diff_dp[closest_diff[0]][closest_diff[1]] >= diff_sum:\n",
    "                break\n",
    "                \n",
    "            l[closest_diff[0]], r[closest_diff[1]] = r[closest_diff[1]], l[closest_diff[0]]\n",
    "            \n",
    "            print(l,sum(l))\n",
    "            print(r, sum(r))\n",
    "            print(abs(sum(l)-sum(r)))\n",
    "            print(closest_diff)\n",
    "            print()\n",
    "            \n",
    "            \n",
    "        print(l,sum(l))\n",
    "        print(r, sum(r))\n",
    "        print(abs(sum(l)-sum(r)))\n",
    "        print(closest_diff)\n",
    "        print()\n",
    "        \n",
    "        return int(abs(sum(l) - sum(r)))\n",
    "                    \n",
    "            \n",
    "            \n",
    "            \n",
    "            "
   ]
  },
  {
   "cell_type": "code",
   "execution_count": 78,
   "metadata": {},
   "outputs": [],
   "source": [
    "s = Solution()"
   ]
  },
  {
   "cell_type": "code",
   "execution_count": 79,
   "metadata": {},
   "outputs": [
    {
     "name": "stdout",
     "output_type": "stream",
     "text": [
      "[-936, 778, -189, -282] -629\n",
      "[-602, -418, -773, 807] -986\n",
      "\n",
      "[None, 1380, 413, 320]\n",
      "[None, 1196, 229, 136]\n",
      "[None, 1551, 584, 491]\n",
      "[None, None, None, None]\n",
      "[-602, -282, -773, 807] -850\n",
      "[-936, 778, -189, -418] -765\n",
      "85\n",
      "(1, 3, 85)\n",
      "\n",
      "[None, 1380, 413, 184]\n",
      "[None, 1060, 93, None]\n",
      "[None, 1551, 584, 355]\n",
      "[None, None, None, None]\n",
      "[-602, -282, -773, 807] -850\n",
      "[-936, 778, -189, -418] -765\n",
      "85\n",
      "(1, 2, 101)\n",
      "\n"
     ]
    },
    {
     "data": {
      "text/plain": [
       "85"
      ]
     },
     "execution_count": 79,
     "metadata": {},
     "output_type": "execute_result"
    }
   ],
   "source": [
    "s.minimumDifference([-936,778,-189,-282,-602,-418,-773,807])"
   ]
  },
  {
   "cell_type": "code",
   "execution_count": null,
   "metadata": {},
   "outputs": [],
   "source": []
  },
  {
   "cell_type": "code",
   "execution_count": null,
   "metadata": {},
   "outputs": [],
   "source": []
  }
 ],
 "metadata": {
  "kernelspec": {
   "display_name": "Python 3",
   "language": "python",
   "name": "python3"
  },
  "language_info": {
   "codemirror_mode": {
    "name": "ipython",
    "version": 3
   },
   "file_extension": ".py",
   "mimetype": "text/x-python",
   "name": "python",
   "nbconvert_exporter": "python",
   "pygments_lexer": "ipython3",
   "version": "3.8.12"
  }
 },
 "nbformat": 4,
 "nbformat_minor": 4
}
