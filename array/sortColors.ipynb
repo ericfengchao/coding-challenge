{
 "cells": [
  {
   "cell_type": "code",
   "execution_count": 60,
   "metadata": {},
   "outputs": [],
   "source": [
    "class Solution:\n",
    "    def sortColors(self, nums):\n",
    "        \"\"\"\n",
    "        Do not return anything, modify nums in-place instead.\n",
    "        order red 0, white 1, and blue 2.\n",
    "        \"\"\"\n",
    "        l = 0\n",
    "        r = len(nums) - 1\n",
    "        i = 0\n",
    "        while i < r+1:\n",
    "            c = nums[i]\n",
    "            \n",
    "            if c == 0 and l<i:\n",
    "                nums[l], nums[i] = nums[i], nums[l]\n",
    "                l += 1\n",
    "            elif c == 2:\n",
    "                nums[r], nums[i] = nums[i], nums[r]\n",
    "                r -= 1\n",
    "            else:\n",
    "                i += 1\n",
    "                \n",
    "            print(nums, i)\n",
    "        "
   ]
  },
  {
   "cell_type": "code",
   "execution_count": 61,
   "metadata": {},
   "outputs": [],
   "source": [
    "s = Solution()"
   ]
  },
  {
   "cell_type": "code",
   "execution_count": 62,
   "metadata": {},
   "outputs": [
    {
     "name": "stdout",
     "output_type": "stream",
     "text": [
      "[1, 2, 0, 1, 1, 2, 1, 0] 1\n",
      "[1, 0, 0, 1, 1, 2, 1, 2] 1\n",
      "[0, 1, 0, 1, 1, 2, 1, 2] 1\n",
      "[0, 1, 0, 1, 1, 2, 1, 2] 2\n",
      "[0, 0, 1, 1, 1, 2, 1, 2] 2\n",
      "[0, 0, 1, 1, 1, 2, 1, 2] 3\n",
      "[0, 0, 1, 1, 1, 2, 1, 2] 4\n",
      "[0, 0, 1, 1, 1, 2, 1, 2] 5\n",
      "[0, 0, 1, 1, 1, 1, 2, 2] 5\n",
      "[0, 0, 1, 1, 1, 1, 2, 2] 6\n"
     ]
    },
    {
     "data": {
      "text/plain": [
       "[0, 0, 1, 1, 1, 1, 2, 2]"
      ]
     },
     "execution_count": 62,
     "metadata": {},
     "output_type": "execute_result"
    }
   ],
   "source": [
    "nums = [1,2,0,1,1,2,1,0]\n",
    "s.sortColors(nums)\n",
    "nums"
   ]
  },
  {
   "cell_type": "code",
   "execution_count": 63,
   "metadata": {},
   "outputs": [
    {
     "name": "stdout",
     "output_type": "stream",
     "text": [
      "[0, 0, 2, 1, 1, 2] 0\n",
      "[0, 0, 2, 1, 1, 2] 1\n",
      "[0, 0, 2, 1, 1, 2] 1\n",
      "[0, 0, 2, 1, 1, 2] 2\n",
      "[0, 0, 1, 1, 2, 2] 2\n",
      "[0, 0, 1, 1, 2, 2] 3\n",
      "[0, 0, 1, 1, 2, 2] 4\n"
     ]
    },
    {
     "data": {
      "text/plain": [
       "[0, 0, 1, 1, 2, 2]"
      ]
     },
     "execution_count": 63,
     "metadata": {},
     "output_type": "execute_result"
    }
   ],
   "source": [
    "nums = [2,0,2,1,1,0]\n",
    "s.sortColors(nums)\n",
    "nums"
   ]
  },
  {
   "cell_type": "code",
   "execution_count": 64,
   "metadata": {},
   "outputs": [
    {
     "name": "stdout",
     "output_type": "stream",
     "text": [
      "[1, 0, 2] 0\n",
      "[1, 0, 2] 1\n",
      "[0, 1, 2] 1\n",
      "[0, 1, 2] 2\n"
     ]
    },
    {
     "data": {
      "text/plain": [
       "[0, 1, 2]"
      ]
     },
     "execution_count": 64,
     "metadata": {},
     "output_type": "execute_result"
    }
   ],
   "source": [
    "nums = [2,0,1]\n",
    "s.sortColors(nums)\n",
    "nums"
   ]
  },
  {
   "cell_type": "code",
   "execution_count": null,
   "metadata": {},
   "outputs": [],
   "source": []
  }
 ],
 "metadata": {
  "kernelspec": {
   "display_name": "Python 3",
   "language": "python",
   "name": "python3"
  },
  "language_info": {
   "codemirror_mode": {
    "name": "ipython",
    "version": 3
   },
   "file_extension": ".py",
   "mimetype": "text/x-python",
   "name": "python",
   "nbconvert_exporter": "python",
   "pygments_lexer": "ipython3",
   "version": "3.8.12"
  }
 },
 "nbformat": 4,
 "nbformat_minor": 4
}
