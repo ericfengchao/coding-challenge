{
 "cells": [
  {
   "cell_type": "code",
   "execution_count": 10,
   "metadata": {},
   "outputs": [],
   "source": [
    "# Definition for singly-linked list.\n",
    "class ListNode:\n",
    "    def __init__(self, val=0, next=None):\n",
    "        self.val = val\n",
    "        self.next = next\n",
    "\n",
    "# 2. Add Two Numbers\n",
    "class Solution:\n",
    "    def convert_to_list():\n",
    "        pass\n",
    "        \n",
    "    def addTwoNumbers(self, l1, l2):\n",
    "        carry = 0\n",
    "        result = None\n",
    "        prev = None\n",
    "        while l1 or l2 or carry > 0:\n",
    "            l1_v = 0\n",
    "            if l1:\n",
    "                l1_v = l1.val\n",
    "                l1 = l1.next\n",
    "            \n",
    "            l2_v = 0\n",
    "            if l2:\n",
    "                l2_v = l2.val\n",
    "                l2 = l2.next\n",
    "            \n",
    "            add_v = l1_v+l2_v+carry\n",
    "            add = ListNode(add_v%10)\n",
    "            \n",
    "            if prev:\n",
    "                prev.next = add\n",
    "            else:\n",
    "                result = add\n",
    "            \n",
    "            prev = add\n",
    "            carry = 0\n",
    "            if add_v >=10:\n",
    "                carry = 1\n",
    "    \n",
    "        return result    "
   ]
  },
  {
   "cell_type": "code",
   "execution_count": 9,
   "metadata": {},
   "outputs": [],
   "source": [
    "s = Solution()"
   ]
  },
  {
   "cell_type": "code",
   "execution_count": null,
   "metadata": {},
   "outputs": [],
   "source": []
  },
  {
   "cell_type": "code",
   "execution_count": null,
   "metadata": {},
   "outputs": [],
   "source": []
  }
 ],
 "metadata": {
  "kernelspec": {
   "display_name": "Python 3",
   "language": "python",
   "name": "python3"
  },
  "language_info": {
   "codemirror_mode": {
    "name": "ipython",
    "version": 3
   },
   "file_extension": ".py",
   "mimetype": "text/x-python",
   "name": "python",
   "nbconvert_exporter": "python",
   "pygments_lexer": "ipython3",
   "version": "3.8.12"
  }
 },
 "nbformat": 4,
 "nbformat_minor": 4
}
