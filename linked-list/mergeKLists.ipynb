{
 "cells": [
  {
   "cell_type": "code",
   "execution_count": 87,
   "metadata": {},
   "outputs": [],
   "source": [
    "# Definition for singly-linked list.\n",
    "from heapq import heapify, heappush, heappop \n",
    "\n",
    "class ListNode:\n",
    "    def __init__(self, val=0, next=None):\n",
    "        self.val = val\n",
    "        self.next = next\n",
    "\n",
    "class Solution:\n",
    "    def convertListToListNode(self, l):\n",
    "        root = ListNode(val=l[0],)\n",
    "        curr = root\n",
    "        for i in range(1,len(l)):\n",
    "            curr.next = ListNode(l[i])\n",
    "            curr = curr.next\n",
    "        return root\n",
    "    \n",
    "    def printListNode(self, l):\n",
    "        result = []\n",
    "        while l:\n",
    "            result.append(l.val)\n",
    "            l = l.next\n",
    "        \n",
    "        print(result)\n",
    "        \n",
    "    def mergeKLists(self, lists):\n",
    "        from heapq import heapify, heappush, heappop \n",
    "        heap = []\n",
    "        val_to_node = {}\n",
    "        for node in lists:\n",
    "            if node is None:\n",
    "                continue\n",
    "            if node.val not in val_to_node:\n",
    "                val_to_node[node.val] = []\n",
    "            \n",
    "            val_to_node[node.val].append(node)\n",
    "            heappush(heap, node.val)\n",
    "        \n",
    "        result = None\n",
    "        curr = result\n",
    "        while heap:\n",
    "            min_val = heappop(heap)\n",
    "            if result is None:\n",
    "                result = ListNode(min_val)\n",
    "                curr = result\n",
    "            else:\n",
    "                curr.next = ListNode(min_val)\n",
    "                curr = curr.next\n",
    "            \n",
    "            min_node = val_to_node[min_val].pop()\n",
    "            node = min_node.next\n",
    "            \n",
    "            if node is None:\n",
    "                continue\n",
    "            \n",
    "            if node.val not in val_to_node:\n",
    "                val_to_node[node.val] = []\n",
    "            \n",
    "            val_to_node[node.val].append(node)\n",
    "            heappush(heap, node.val)\n",
    "            print(heap)\n",
    "            \n",
    "        return result"
   ]
  },
  {
   "cell_type": "code",
   "execution_count": 88,
   "metadata": {},
   "outputs": [],
   "source": [
    "s = Solution()"
   ]
  },
  {
   "cell_type": "code",
   "execution_count": 89,
   "metadata": {},
   "outputs": [
    {
     "name": "stdout",
     "output_type": "stream",
     "text": [
      "[2, 2]\n",
      "[2, 3]\n",
      "[3, 3]\n",
      "[3, 4]\n",
      "[1, 2, 2, 3, 3, 4]\n"
     ]
    }
   ],
   "source": [
    "a = s.convertListToListNode([1,2,3])\n",
    "b = s.convertListToListNode([2,3,4])\n",
    "s.mergeKLists([a,b])"
   ]
  },
  {
   "cell_type": "code",
   "execution_count": null,
   "metadata": {},
   "outputs": [],
   "source": []
  }
 ],
 "metadata": {
  "kernelspec": {
   "display_name": "Python 3",
   "language": "python",
   "name": "python3"
  },
  "language_info": {
   "codemirror_mode": {
    "name": "ipython",
    "version": 3
   },
   "file_extension": ".py",
   "mimetype": "text/x-python",
   "name": "python",
   "nbconvert_exporter": "python",
   "pygments_lexer": "ipython3",
   "version": "3.8.12"
  }
 },
 "nbformat": 4,
 "nbformat_minor": 4
}
