{
 "cells": [
  {
   "cell_type": "code",
   "execution_count": 1,
   "metadata": {},
   "outputs": [],
   "source": [
    "# https://leetcode.com/problems/reorder-list/"
   ]
  },
  {
   "cell_type": "code",
   "execution_count": 10,
   "metadata": {},
   "outputs": [],
   "source": [
    "# Definition for singly-linked list.\n",
    "class ListNode(object):\n",
    "    def __init__(self, val=0, next=None):\n",
    "        self.val = val\n",
    "        self.next = next\n",
    "        \n",
    "        \n",
    "def getLinkedList(nums):\n",
    "    prev = None\n",
    "    for num in reversed(nums):\n",
    "        prev = ListNode(val=num, next=prev)\n",
    "    \n",
    "    return prev\n",
    "\n",
    "def printLinkedList(node):\n",
    "    s = []\n",
    "    while node != None:\n",
    "        s.append(node.val)\n",
    "        node = node.next\n",
    "        \n",
    "    print(s)"
   ]
  },
  {
   "cell_type": "code",
   "execution_count": 23,
   "metadata": {},
   "outputs": [],
   "source": [
    "class Solution(object):\n",
    "    def reverseList(self, head):\n",
    "        \"\"\"\n",
    "        :type head: ListNode\n",
    "        :rtype: ListNode\n",
    "        \"\"\"\n",
    "        if head is None:\n",
    "            return head\n",
    "\n",
    "        prev_head = None\n",
    "        head_next = head.next\n",
    "        while head_next != None:\n",
    "            head.next = prev_head\n",
    "            prev_head = head\n",
    "            head = head_next\n",
    "            head_next = head.next\n",
    "            \n",
    "        head.next = prev_head\n",
    "\n",
    "        return head      \n",
    "        \n",
    "        \n",
    "    def reorderList(self, head):\n",
    "        \"\"\"\n",
    "        :type head: ListNode\n",
    "        :rtype: None Do not return anything, modify head in-place instead.\n",
    "        \"\"\"\n",
    "        double_linked_list = vec[head]\n",
    "        while vec[-1].next != null:\n",
    "            double_linked_list.append(vec[-1].next)\n",
    "        \n",
    "        total_node = len(double_linked_list)-1\n",
    "        for i in range(total_node, total_node//2):\n",
    "            nth = double_linked_list.pop()\n",
    "            new_head = head.next\n",
    "            head.next = nth\n",
    "            nth.next = new_head\n",
    "            head = new_head"
   ]
  },
  {
   "cell_type": "code",
   "execution_count": 24,
   "metadata": {},
   "outputs": [],
   "source": [
    "s = Solution()"
   ]
  },
  {
   "cell_type": "code",
   "execution_count": 25,
   "metadata": {},
   "outputs": [],
   "source": [
    "ll = getLinkedList(range(4))"
   ]
  },
  {
   "cell_type": "code",
   "execution_count": 26,
   "metadata": {},
   "outputs": [
    {
     "name": "stdout",
     "output_type": "stream",
     "text": [
      "[3, 2, 1, 0]\n"
     ]
    }
   ],
   "source": [
    "printLinkedList(s.reverseList(ll))"
   ]
  },
  {
   "cell_type": "code",
   "execution_count": null,
   "metadata": {},
   "outputs": [],
   "source": []
  }
 ],
 "metadata": {
  "kernelspec": {
   "display_name": "Python 3",
   "language": "python",
   "name": "python3"
  },
  "language_info": {
   "codemirror_mode": {
    "name": "ipython",
    "version": 3
   },
   "file_extension": ".py",
   "mimetype": "text/x-python",
   "name": "python",
   "nbconvert_exporter": "python",
   "pygments_lexer": "ipython3",
   "version": "3.8.12"
  }
 },
 "nbformat": 4,
 "nbformat_minor": 4
}
