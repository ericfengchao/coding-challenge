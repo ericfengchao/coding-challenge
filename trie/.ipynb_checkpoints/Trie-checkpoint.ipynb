{
 "cells": [
  {
   "cell_type": "code",
   "execution_count": 2,
   "metadata": {},
   "outputs": [],
   "source": [
    "class Trie(object):\n",
    "    def __init__(self, val=None):\n",
    "        self.val = val\n",
    "        self.is_word = False\n",
    "        self.children = []\n",
    "        \n",
    "    def print_trie(self):\n",
    "        stack = []\n",
    "        print(self.val)\n",
    "        stack.append(self.children)\n",
    "        while stack:\n",
    "            children = stack.pop()\n",
    "            children_vals = []\n",
    "            for child in children:\n",
    "                children_vals.append(child.val)\n",
    "                if child.children:\n",
    "                    stack.insert(0, child.children)\n",
    "            print(children_vals)\n",
    "\n",
    "    def insert(self, word):\n",
    "        \"\"\"\n",
    "        :type word: str\n",
    "        :rtype: None\n",
    "        \"\"\"\n",
    "        node = self\n",
    "        for c in word:\n",
    "            node = node.upsert_in_children(c)\n",
    "            \n",
    "        node.is_word = True\n",
    "            \n",
    "    def upsert_in_children(self, c):\n",
    "        # -1 means insert at the most left        \n",
    "        for i in range(len(self.children)):\n",
    "            child = self.children[i]\n",
    "            \n",
    "            if child.val == c:\n",
    "                return child\n",
    "            \n",
    "            if child.val > c:\n",
    "                c_trie = Trie(c)\n",
    "                self.children.insert(i, c_trie)\n",
    "                return c_trie\n",
    "            \n",
    "        c_trie = Trie(c)\n",
    "        self.children.append(c_trie)\n",
    "        return c_trie\n",
    "    \n",
    "    def find_in_children(self, c):\n",
    "        # TODO: optimise search using binary search\n",
    "        for i in range(len(self.children)):\n",
    "            child = self.children[i]\n",
    "            \n",
    "            if child.val == c:\n",
    "                return child\n",
    "            \n",
    "            if child.val > c:\n",
    "                return None\n",
    "            \n",
    "        return None\n",
    "\n",
    "    def search(self, word):\n",
    "        \"\"\"\n",
    "        :type word: str\n",
    "        :rtype: bool\n",
    "        \"\"\"\n",
    "        # TODO: optimise search using binary search\n",
    "        node = self\n",
    "        for i in range(len(word)):\n",
    "            c = word[i]\n",
    "            node = node.find_in_children(c)\n",
    "            if node == None  :\n",
    "                return False\n",
    "        \n",
    "        return node.is_word\n",
    "        \n",
    "\n",
    "    def startsWith(self, prefix):\n",
    "        \"\"\"\n",
    "        :type prefix: str\n",
    "        :rtype: bool\n",
    "        \"\"\"\n",
    "        node = self\n",
    "        for c in prefix:\n",
    "            node = node.find_in_children(c)\n",
    "            if node == None:\n",
    "                return False\n",
    "        \n",
    "        return True"
   ]
  },
  {
   "cell_type": "code",
   "execution_count": 11,
   "metadata": {},
   "outputs": [],
   "source": [
    "class WordDictionary:\n",
    "\n",
    "    def __init__(self):\n",
    "        self.trie = Trie()\n",
    "\n",
    "    def addWord(self, word: str) -> None:\n",
    "        self.trie.insert(word)\n",
    "        \n",
    "\n",
    "    def search(self, word: str) -> bool:\n",
    "        node = None\n",
    "        children = self.trie.children\n",
    "        for i in range(len(word)):\n",
    "            c = word[i]\n",
    "            hits = []\n",
    "            if c == '*':\n",
    "                for child in children:\n",
    "                    hits.append(child)\n",
    "            else:\n",
    "                for child in children:\n",
    "                    if child.val == c:\n",
    "                        hits.append(child)\n",
    "            if len(hits) == 0:\n",
    "                return False\n",
    "            children = []\n",
    "            for hit in hits:\n",
    "                children += hit.children\n",
    "        \n",
    "        for hit in hits:\n",
    "            if hit.is_word:\n",
    "                return True\n",
    "            \n",
    "        return False"
   ]
  },
  {
   "cell_type": "code",
   "execution_count": 12,
   "metadata": {},
   "outputs": [],
   "source": [
    "# Your WordDictionary object will be instantiated and called as such:\n",
    "obj = WordDictionary()\n",
    "obj.addWord('abc')"
   ]
  },
  {
   "cell_type": "code",
   "execution_count": 13,
   "metadata": {},
   "outputs": [
    {
     "name": "stdout",
     "output_type": "stream",
     "text": [
      "None\n",
      "['a']\n",
      "['b']\n",
      "['c']\n"
     ]
    }
   ],
   "source": [
    "obj.trie.print_trie()"
   ]
  },
  {
   "cell_type": "code",
   "execution_count": 14,
   "metadata": {},
   "outputs": [
    {
     "data": {
      "text/plain": [
       "True"
      ]
     },
     "execution_count": 14,
     "metadata": {},
     "output_type": "execute_result"
    }
   ],
   "source": [
    "obj.search('abc')"
   ]
  },
  {
   "cell_type": "code",
   "execution_count": 15,
   "metadata": {},
   "outputs": [
    {
     "data": {
      "text/plain": [
       "True"
      ]
     },
     "execution_count": 15,
     "metadata": {},
     "output_type": "execute_result"
    }
   ],
   "source": [
    "obj.search('a*c')"
   ]
  },
  {
   "cell_type": "code",
   "execution_count": 16,
   "metadata": {},
   "outputs": [
    {
     "data": {
      "text/plain": [
       "True"
      ]
     },
     "execution_count": 16,
     "metadata": {},
     "output_type": "execute_result"
    }
   ],
   "source": [
    "obj.search('***')"
   ]
  },
  {
   "cell_type": "code",
   "execution_count": 17,
   "metadata": {},
   "outputs": [
    {
     "data": {
      "text/plain": [
       "False"
      ]
     },
     "execution_count": 17,
     "metadata": {},
     "output_type": "execute_result"
    }
   ],
   "source": [
    "obj.search('*b*c')"
   ]
  },
  {
   "cell_type": "code",
   "execution_count": 18,
   "metadata": {},
   "outputs": [
    {
     "data": {
      "text/plain": [
       "True"
      ]
     },
     "execution_count": 18,
     "metadata": {},
     "output_type": "execute_result"
    }
   ],
   "source": [
    "obj.search('*b*')"
   ]
  },
  {
   "cell_type": "code",
   "execution_count": null,
   "metadata": {},
   "outputs": [],
   "source": []
  }
 ],
 "metadata": {
  "kernelspec": {
   "display_name": "Python 3",
   "language": "python",
   "name": "python3"
  },
  "language_info": {
   "codemirror_mode": {
    "name": "ipython",
    "version": 3
   },
   "file_extension": ".py",
   "mimetype": "text/x-python",
   "name": "python",
   "nbconvert_exporter": "python",
   "pygments_lexer": "ipython3",
   "version": "3.8.12"
  }
 },
 "nbformat": 4,
 "nbformat_minor": 4
}
