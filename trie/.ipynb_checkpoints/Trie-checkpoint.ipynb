{
 "cells": [
  {
   "cell_type": "code",
   "execution_count": 52,
   "metadata": {},
   "outputs": [],
   "source": [
    "class Trie(object):\n",
    "    def __init__(self, val=None):\n",
    "        self.val = val\n",
    "        self.word = None\n",
    "        self.children = []\n",
    "        \n",
    "    def print_trie(self):\n",
    "        stack = []\n",
    "        print(self.val)\n",
    "        stack.append(self.children)\n",
    "        while stack:\n",
    "            children = stack.pop()\n",
    "            children_vals = []\n",
    "            for child in children:\n",
    "                children_vals.append(child.val)\n",
    "                if child.children:\n",
    "                    stack.insert(0, child.children)\n",
    "            print(children_vals)\n",
    "        \n",
    "\n",
    "    def insert(self, word):\n",
    "        \"\"\"\n",
    "        :type word: str\n",
    "        :rtype: None\n",
    "        \"\"\"\n",
    "        node = self\n",
    "        for c in word:\n",
    "            node = node.upsert_in_children(c)\n",
    "            \n",
    "        node.word = word\n",
    "            \n",
    "    def upsert_in_children(self, c):\n",
    "        # -1 means insert at the most left        \n",
    "        for i in range(len(self.children)):\n",
    "            child = self.children[i]\n",
    "            \n",
    "            if child.val == c:\n",
    "                return child\n",
    "            \n",
    "            if child.val > c:\n",
    "                c_trie = Trie(c)\n",
    "                self.children.insert(i, c_trie)\n",
    "                return c_trie\n",
    "            \n",
    "        c_trie = Trie(c)\n",
    "        self.children.append(c_trie)\n",
    "        return c_trie\n",
    "    \n",
    "    def find_in_children(self, c):\n",
    "        # TODO: optimise search using binary search\n",
    "        for i in range(len(self.children)):\n",
    "            child = self.children[i]\n",
    "            \n",
    "            if child.val == c:\n",
    "                return child\n",
    "            \n",
    "            if child.val > c:\n",
    "                return None\n",
    "            \n",
    "        return None\n",
    "\n",
    "    def search(self, word):\n",
    "        \"\"\"\n",
    "        :type word: str\n",
    "        :rtype: bool\n",
    "        \"\"\"\n",
    "        # TODO: optimise search using binary search\n",
    "        node = self\n",
    "        for i in range(len(word)):\n",
    "            c = word[i]\n",
    "            node = node.find_in_children(c)\n",
    "            if node == None  :\n",
    "                return False\n",
    "        \n",
    "        return node.word == word\n",
    "        \n",
    "\n",
    "    def startsWith(self, prefix):\n",
    "        \"\"\"\n",
    "        :type prefix: str\n",
    "        :rtype: bool\n",
    "        \"\"\"\n",
    "        node = self\n",
    "        for c in prefix:\n",
    "            node = node.find_in_children(c)\n",
    "            if node == None:\n",
    "                return False\n",
    "        \n",
    "        return True"
   ]
  },
  {
   "cell_type": "code",
   "execution_count": 53,
   "metadata": {},
   "outputs": [],
   "source": [
    "# Your Trie object will be instantiated and called as such:\n",
    "obj = Trie()\n",
    "obj.insert('apple')"
   ]
  },
  {
   "cell_type": "code",
   "execution_count": 54,
   "metadata": {},
   "outputs": [
    {
     "data": {
      "text/plain": [
       "True"
      ]
     },
     "execution_count": 54,
     "metadata": {},
     "output_type": "execute_result"
    }
   ],
   "source": [
    "obj.search('apple')"
   ]
  },
  {
   "cell_type": "code",
   "execution_count": 55,
   "metadata": {},
   "outputs": [
    {
     "data": {
      "text/plain": [
       "False"
      ]
     },
     "execution_count": 55,
     "metadata": {},
     "output_type": "execute_result"
    }
   ],
   "source": [
    "obj.startsWith('abc')"
   ]
  },
  {
   "cell_type": "code",
   "execution_count": 56,
   "metadata": {},
   "outputs": [],
   "source": [
    "obj.insert('app')"
   ]
  },
  {
   "cell_type": "code",
   "execution_count": 57,
   "metadata": {},
   "outputs": [
    {
     "data": {
      "text/plain": [
       "True"
      ]
     },
     "execution_count": 57,
     "metadata": {},
     "output_type": "execute_result"
    }
   ],
   "source": [
    "obj.startsWith('app')"
   ]
  },
  {
   "cell_type": "code",
   "execution_count": 58,
   "metadata": {},
   "outputs": [
    {
     "data": {
      "text/plain": [
       "True"
      ]
     },
     "execution_count": 58,
     "metadata": {},
     "output_type": "execute_result"
    }
   ],
   "source": [
    "obj.search('app')"
   ]
  },
  {
   "cell_type": "code",
   "execution_count": null,
   "metadata": {},
   "outputs": [],
   "source": []
  },
  {
   "cell_type": "code",
   "execution_count": null,
   "metadata": {},
   "outputs": [],
   "source": []
  }
 ],
 "metadata": {
  "kernelspec": {
   "display_name": "Python 3",
   "language": "python",
   "name": "python3"
  },
  "language_info": {
   "codemirror_mode": {
    "name": "ipython",
    "version": 3
   },
   "file_extension": ".py",
   "mimetype": "text/x-python",
   "name": "python",
   "nbconvert_exporter": "python",
   "pygments_lexer": "ipython3",
   "version": "3.8.12"
  }
 },
 "nbformat": 4,
 "nbformat_minor": 4
}
