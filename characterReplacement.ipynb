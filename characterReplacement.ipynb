{
 "cells": [
  {
   "cell_type": "code",
   "execution_count": 81,
   "id": "f0ecc4f6",
   "metadata": {},
   "outputs": [],
   "source": [
    "class Solution(object):\n",
    "    def characterReplacement(self, s, k):\n",
    "        \"\"\"\n",
    "        :type s: str\n",
    "        :type k: int\n",
    "        :rtype: int\n",
    "        \"\"\"\n",
    "        c_seqs = {}\n",
    "        i = 0\n",
    "        while i < len(s):\n",
    "            c = s[i]\n",
    "            if c not in c_seqs:\n",
    "                c_seqs[c] = []\n",
    "            j = i+1\n",
    "            while j < len(s) and s[j] == c:\n",
    "                j += 1\n",
    "            c_seqs[c].append((i,j))\n",
    "            i = j\n",
    "        \n",
    "        longest_seq = 0\n",
    "        for c, seqs in c_seqs.items():\n",
    "            print(c, seqs)\n",
    "            \n",
    "            longest_seq_per_c = 0\n",
    "            \n",
    "            k_remain = k\n",
    "            merged = []\n",
    "            for seq in seqs:\n",
    "                if len(merged) == 0:\n",
    "                    merged.append(seq)\n",
    "                else:\n",
    "                    top = merged[-1]\n",
    "                    gap = seq[0] - top[1]\n",
    "                    if gap <= k_remain:\n",
    "                        merged.append(seq)\n",
    "                        k_remain -= gap\n",
    "                    else:\n",
    "                        # TODO from here\n",
    "                longest_seq_per_c = max(longest_seq_per_c, seq_len)\n",
    "            \n",
    "            longest_seq = max(longest_seq, longest_seq_per_c)\n",
    "            \n",
    "        return longest_seq"
   ]
  },
  {
   "cell_type": "code",
   "execution_count": 82,
   "id": "ba54d89a",
   "metadata": {},
   "outputs": [],
   "source": [
    "s = Solution()"
   ]
  },
  {
   "cell_type": "code",
   "execution_count": 83,
   "id": "b36b3671",
   "metadata": {},
   "outputs": [
    {
     "name": "stdout",
     "output_type": "stream",
     "text": [
      "A [(0, 1)]\n",
      "B [(1, 2)]\n",
      "C [(2, 3)]\n",
      "D [(3, 4)]\n",
      "E [(4, 5)]\n"
     ]
    },
    {
     "data": {
      "text/plain": [
       "2"
      ]
     },
     "execution_count": 83,
     "metadata": {},
     "output_type": "execute_result"
    }
   ],
   "source": [
    "s.characterReplacement(s = \"ABCDE\", k = 1)"
   ]
  },
  {
   "cell_type": "code",
   "execution_count": 84,
   "id": "2fa5ec10",
   "metadata": {},
   "outputs": [
    {
     "name": "stdout",
     "output_type": "stream",
     "text": [
      "B [(0, 1), (8, 9), (25, 26)]\n",
      "R [(1, 2), (3, 5), (7, 8), (34, 35), (36, 37), (61, 62), (75, 76), (95, 96)]\n",
      "J [(2, 3), (50, 52), (63, 64), (77, 78), (83, 84)]\n",
      "K [(5, 6), (12, 13), (39, 41), (46, 47), (84, 85)]\n",
      "N [(6, 7), (23, 24), (30, 31), (57, 58), (60, 61), (62, 63), (65, 66), (71, 72), (99, 100)]\n",
      "F [(9, 10), (29, 30), (33, 34), (42, 43), (64, 65), (66, 67), (88, 89), (98, 99)]\n",
      "O [(10, 12), (17, 18)]\n",
      "D [(13, 14), (18, 19), (54, 55), (70, 71), (74, 75), (90, 91)]\n",
      "E [(14, 16), (38, 39), (43, 44)]\n",
      "G [(16, 17), (20, 21), (93, 94)]\n",
      "T [(19, 20), (27, 28), (32, 33), (41, 42), (86, 88)]\n",
      "M [(21, 22), (26, 27), (52, 53), (72, 73)]\n",
      "H [(22, 23), (28, 29), (35, 36), (73, 74), (89, 90)]\n",
      "A [(24, 25), (49, 50), (79, 80), (85, 86), (91, 92)]\n",
      "P [(31, 32)]\n",
      "S [(37, 38), (47, 48), (53, 54), (55, 56), (58, 59), (67, 68), (92, 93), (97, 98)]\n",
      "Q [(44, 45), (69, 70), (96, 97)]\n",
      "I [(45, 46), (48, 49), (68, 69), (76, 77), (78, 79)]\n",
      "L [(56, 57), (81, 82), (94, 95)]\n",
      "C [(59, 60), (80, 81), (82, 83)]\n"
     ]
    },
    {
     "data": {
      "text/plain": [
       "13"
      ]
     },
     "execution_count": 84,
     "metadata": {},
     "output_type": "execute_result"
    }
   ],
   "source": [
    "s.characterReplacement(s = \"BRJRRKNRBFOOKDEEGODTGMHNABMTHFNPTFRHRSEKKTFEQIKSIAJJMSDSLNSCNRNJFNFSIQDNMHDRIJIACLCJKATTFHDASGLRQSFN\", k = 10)"
   ]
  },
  {
   "cell_type": "code",
   "execution_count": null,
   "id": "a036930e",
   "metadata": {},
   "outputs": [],
   "source": []
  },
  {
   "cell_type": "code",
   "execution_count": null,
   "id": "a1a30862",
   "metadata": {},
   "outputs": [],
   "source": []
  }
 ],
 "metadata": {
  "kernelspec": {
   "display_name": "Python 3 (ipykernel)",
   "language": "python",
   "name": "python3"
  },
  "language_info": {
   "codemirror_mode": {
    "name": "ipython",
    "version": 3
   },
   "file_extension": ".py",
   "mimetype": "text/x-python",
   "name": "python",
   "nbconvert_exporter": "python",
   "pygments_lexer": "ipython3",
   "version": "3.9.12"
  }
 },
 "nbformat": 4,
 "nbformat_minor": 5
}
